{
 "cells": [
  {
   "cell_type": "markdown",
   "metadata": {},
   "source": [
    "## Assignment\n",
    "\n",
    "### Part I\n",
    "\n",
    "#### Clean your data\n",
    "\n",
    "+ Read in temp_data.txt\n",
    "    + It won't be easy! You'll need to find a way to clean the data\n",
    "    + Try opening the file in a text editor first\n",
    "+ Read in temp_X.csv\n",
    "+ Merge the X variable from temp_X with the data from temp_data\n",
    "+ Note that we discussed this in class, but it's something you'll just need to practice on your own. \n",
    "+ You will struggle with this and it's ok\n",
    "+ Check out the documentation for read_csv() in the pandas package\n",
    "\n",
    "\n",
    "### Part II\n",
    "\n",
    "#### Run a linear regression\n",
    "+ Using X to predict temperature \n",
    "+ Interpret your coefficients!\n",
    "+ What is one potential use for this linear regression equation? \n",
    "+ What does this linear regression mean? \n",
    "+ Is this a good model? Why or why not? \n",
    "\n",
    "    \n"
   ]
  },
  {
   "cell_type": "code",
   "execution_count": 3,
   "metadata": {
    "collapsed": true
   },
   "outputs": [],
   "source": [
    "import pandas as pd\n",
    "from __future__ import division  \n",
    "import matplotlib.pyplot as plt"
   ]
  },
  {
   "cell_type": "code",
   "execution_count": 10,
   "metadata": {
    "collapsed": false
   },
   "outputs": [
    {
     "name": "stderr",
     "output_type": "stream",
     "text": [
      "Skipping line 12: expected 1 fields, saw 2\n",
      "Skipping line 17: expected 1 fields, saw 2\n",
      "Skipping line 20: expected 1 fields, saw 2\n",
      "Skipping line 31: expected 1 fields, saw 2\n",
      "Skipping line 32: expected 1 fields, saw 2\n",
      "Skipping line 33: expected 1 fields, saw 2\n",
      "Skipping line 35: expected 1 fields, saw 2\n",
      "Skipping line 36: expected 1 fields, saw 2\n",
      "Skipping line 42: expected 1 fields, saw 2\n",
      "Skipping line 47: expected 1 fields, saw 2\n",
      "Skipping line 49: expected 1 fields, saw 2\n",
      "Skipping line 50: expected 1 fields, saw 2\n",
      "Skipping line 51: expected 1 fields, saw 2\n",
      "Skipping line 53: expected 1 fields, saw 2\n",
      "Skipping line 61: expected 1 fields, saw 2\n",
      "Skipping line 63: expected 1 fields, saw 2\n",
      "Skipping line 65: expected 1 fields, saw 2\n",
      "Skipping line 67: expected 1 fields, saw 2\n",
      "Skipping line 70: expected 1 fields, saw 2\n",
      "Skipping line 71: expected 1 fields, saw 2\n",
      "Skipping line 74: expected 1 fields, saw 2\n",
      "Skipping line 76: expected 1 fields, saw 2\n",
      "Skipping line 77: expected 1 fields, saw 2\n",
      "Skipping line 78: expected 1 fields, saw 2\n",
      "Skipping line 80: expected 1 fields, saw 2\n",
      "Skipping line 83: expected 1 fields, saw 2\n",
      "Skipping line 85: expected 1 fields, saw 2\n",
      "Skipping line 87: expected 1 fields, saw 2\n",
      "Skipping line 88: expected 1 fields, saw 2\n",
      "Skipping line 94: expected 1 fields, saw 3\n",
      "Skipping line 100: expected 1 fields, saw 2\n",
      "Skipping line 104: expected 1 fields, saw 2\n",
      "Skipping line 110: expected 1 fields, saw 7\n",
      "\n"
     ]
    },
    {
     "data": {
      "text/html": [
       "<div>\n",
       "<table border=\"1\" class=\"dataframe\">\n",
       "  <thead>\n",
       "    <tr style=\"text-align: right;\">\n",
       "      <th></th>\n",
       "      <th>Unnamed: 0</th>\n",
       "      <th>Station_ID</th>\n",
       "      <th>Series_Number</th>\n",
       "      <th>Date</th>\n",
       "      <th>X</th>\n",
       "    </tr>\n",
       "  </thead>\n",
       "  <tbody>\n",
       "    <tr>\n",
       "      <th>0</th>\n",
       "      <td>0</td>\n",
       "      <td>25398</td>\n",
       "      <td>1</td>\n",
       "      <td>1986.708</td>\n",
       "      <td>79.8998</td>\n",
       "    </tr>\n",
       "    <tr>\n",
       "      <th>1</th>\n",
       "      <td>1</td>\n",
       "      <td>25398</td>\n",
       "      <td>1</td>\n",
       "      <td>1986.875</td>\n",
       "      <td>81.6674</td>\n",
       "    </tr>\n",
       "    <tr>\n",
       "      <th>2</th>\n",
       "      <td>2</td>\n",
       "      <td>25398</td>\n",
       "      <td>1</td>\n",
       "      <td>1986.958</td>\n",
       "      <td>82.8068</td>\n",
       "    </tr>\n",
       "    <tr>\n",
       "      <th>3</th>\n",
       "      <td>3</td>\n",
       "      <td>25398</td>\n",
       "      <td>1</td>\n",
       "      <td>1987.042</td>\n",
       "      <td>81.6458</td>\n",
       "    </tr>\n",
       "    <tr>\n",
       "      <th>4</th>\n",
       "      <td>4</td>\n",
       "      <td>25398</td>\n",
       "      <td>1</td>\n",
       "      <td>1987.125</td>\n",
       "      <td>82.3928</td>\n",
       "    </tr>\n",
       "  </tbody>\n",
       "</table>\n",
       "</div>"
      ],
      "text/plain": [
       "   Unnamed: 0  Station_ID  Series_Number      Date        X\n",
       "0           0       25398              1  1986.708  79.8998\n",
       "1           1       25398              1  1986.875  81.6674\n",
       "2           2       25398              1  1986.958  82.8068\n",
       "3           3       25398              1  1987.042  81.6458\n",
       "4           4       25398              1  1987.125  82.3928"
      ]
     },
     "execution_count": 10,
     "metadata": {},
     "output_type": "execute_result"
    }
   ],
   "source": [
    "df = pd.read_csv('/Users/richardgraham-bruno/DataScience/DS_32_HW/temp_data.txt', error_bad_lines=False)\n",
    "df.head()\n",
    "data = pd.read_csv('/Users/richardgraham-bruno/DataScience/DS_32_HW/temp_X.csv')\n",
    "data.head()"
   ]
  }
 ],
 "metadata": {
  "anaconda-cloud": {},
  "kernelspec": {
   "display_name": "Python [default]",
   "language": "python",
   "name": "python2"
  },
  "language_info": {
   "codemirror_mode": {
    "name": "ipython",
    "version": 2
   },
   "file_extension": ".py",
   "mimetype": "text/x-python",
   "name": "python",
   "nbconvert_exporter": "python",
   "pygments_lexer": "ipython2",
   "version": "2.7.12"
  }
 },
 "nbformat": 4,
 "nbformat_minor": 0
}
