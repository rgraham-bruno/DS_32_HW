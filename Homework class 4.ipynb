{
 "cells": [
  {
   "cell_type": "markdown",
   "metadata": {},
   "source": [
    "### Homework 4\n",
    "\n",
    "+ You now have the tools to come up with a solid research question\n",
    "+ With an *idea* of how you might answer it\n",
    "+ Now create two for your final project! \n"
   ]
  },
  {
   "cell_type": "markdown",
   "metadata": {},
   "source": [
    "### Step 1\n",
    "\n",
    "+ Choose a freely available dataset\n",
    "+ Checkout public_data.md on course github"
   ]
  },
  {
   "cell_type": "markdown",
   "metadata": {},
   "source": [
    "### Step 2\n",
    "\n",
    "+ Choose an outcome you are interested in\n",
    "+ Is it categorical? Linear? "
   ]
  },
  {
   "cell_type": "markdown",
   "metadata": {},
   "source": [
    "### Step 3\n",
    "\n",
    "+ What do you want to know that we don't already know?"
   ]
  },
  {
   "cell_type": "code",
   "execution_count": null,
   "metadata": {
    "collapsed": true
   },
   "outputs": [],
   "source": [
    "https://github.com/fivethirtyeight/data/tree/master/us-weather-history\n",
    "  #  Is there an increased frequency in extreme weather? (Abnormally low or high precipitation, low or high record temperatures, etc.)\n",
    "# Outcome Frequency of extreme weather data points. Linear?\n",
    "\n",
    "http://wildlife.faa.gov/database.aspx\n",
    "    # Is there are high frequency of strikes on certain bird/bat species? Why? Migration? Time of year? Which airports have the highest rates?\n",
    "    # Outcome frequency of bird collissions by species. Plotting strike rates over time of year. Bird migration data?\n",
    "    \n",
    "http://www.phmsa.dot.gov/pipeline/library/data-stats/distribution-transmission-and-gathering-lng-and-liquid-accident-and-incident-data\n",
    "    # From 2010-Present, What is the main cause of pipeline failure?\n",
    "    # Categorical\n",
    "    \n"
   ]
  }
 ],
 "metadata": {
  "anaconda-cloud": {},
  "kernelspec": {
   "display_name": "Python [default]",
   "language": "python",
   "name": "python2"
  },
  "language_info": {
   "codemirror_mode": {
    "name": "ipython",
    "version": 2
   },
   "file_extension": ".py",
   "mimetype": "text/x-python",
   "name": "python",
   "nbconvert_exporter": "python",
   "pygments_lexer": "ipython2",
   "version": "2.7.12"
  }
 },
 "nbformat": 4,
 "nbformat_minor": 0
}
